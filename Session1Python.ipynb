{
  "nbformat": 4,
  "nbformat_minor": 0,
  "metadata": {
    "colab": {
      "name": "Session1Python.ipynb",
      "version": "0.3.2",
      "provenance": []
    },
    "kernelspec": {
      "name": "python3",
      "display_name": "Python 3"
    }
  },
  "cells": [
    {
      "cell_type": "markdown",
      "metadata": {
        "id": "view-in-github",
        "colab_type": "text"
      },
      "source": [
        "[View in Colaboratory](https://colab.research.google.com/github/umasankarpradhan/AI_ML_2018/blob/master/Session1Python.ipynb)"
      ]
    },
    {
      "metadata": {
        "id": "M94y5Eg3yr1v",
        "colab_type": "text"
      },
      "cell_type": "markdown",
      "source": [
        "Problem 1 : Implement fibonaaci problem using recursion"
      ]
    },
    {
      "metadata": {
        "id": "wYmMWCzY-cEQ",
        "colab_type": "code",
        "colab": {
          "base_uri": "https://localhost:8080/",
          "height": 51
        },
        "outputId": "a11c924b-8eab-4fed-cc0e-4322cc2a03eb"
      },
      "cell_type": "code",
      "source": [
        "'''\n",
        "Pure recursion: It adds the previous two elements and return the\n",
        "value.\n",
        "'''\n",
        "def fibonacciSeriesVer1(nterms):\n",
        "  if (nterms<2):\n",
        "    return nterms\n",
        "  return (fibonacciSeriesVer1(nterms-1)+fibonacciSeriesVer1(nterms-2))\n",
        "\n",
        "n=int(input(\"Enter number of fibonacci terms: \"))\n",
        "outputList=[]\n",
        "for i in range(n):\n",
        "  outputList.append(fibonacciSeriesVer1(i))\n",
        "print(outputList)\n"
      ],
      "execution_count": 1,
      "outputs": [
        {
          "output_type": "stream",
          "text": [
            "Enter number of fibonacci terms: 10\n",
            "[0, 1, 1, 2, 3, 5, 8, 13, 21, 34]\n"
          ],
          "name": "stdout"
        }
      ]
    },
    {
      "metadata": {
        "id": "23BaBRDs7jUP",
        "colab_type": "code",
        "colab": {
          "base_uri": "https://localhost:8080/",
          "height": 71
        },
        "outputId": "6a8d5184-cfe1-49fb-a0f5-6afdcff7f0db"
      },
      "cell_type": "code",
      "source": [
        "'''\n",
        "The above version of fibonacci series may take lot of time to complete\n",
        "for large number of terms or fails with too many recursion.\n",
        "Solution is to calculate the values of fibonacci series only once and\n",
        "start reusing it for next fibonacci series values.\n",
        "'''\n",
        "\n",
        "def fibonacciSeriesVer2(nterms):\n",
        "  if (nterms <2):\n",
        "    fiboList[nterms]=nterms\n",
        "    return nterms\n",
        "  resList = []\n",
        "  resList.append(nterms-1)\n",
        "  resList.append(nterms-2)\n",
        "  ret=0\n",
        "  for i in resList:\n",
        "    if (fiboList[i] != 0):\n",
        "      ret += fiboList[i]\n",
        "    else:\n",
        "      ret += fibonacciSeriesVer2(i)\n",
        "  fiboList[nterms]=ret\n",
        "  return ret\n",
        "  \n",
        "n=int(input(\"Enter the number of fibonacci terms : \"))\n",
        "fiboList=[]\n",
        "for i in range(n):\n",
        "  fiboList.append(0)\n",
        "for i in range(n):\n",
        "  fibonacciSeriesVer2(i)\n",
        "print (fiboList)\n"
      ],
      "execution_count": 2,
      "outputs": [
        {
          "output_type": "stream",
          "text": [
            "Enter the number of fibonacci terms : 100\n",
            "[0, 1, 1, 2, 3, 5, 8, 13, 21, 34, 55, 89, 144, 233, 377, 610, 987, 1597, 2584, 4181, 6765, 10946, 17711, 28657, 46368, 75025, 121393, 196418, 317811, 514229, 832040, 1346269, 2178309, 3524578, 5702887, 9227465, 14930352, 24157817, 39088169, 63245986, 102334155, 165580141, 267914296, 433494437, 701408733, 1134903170, 1836311903, 2971215073, 4807526976, 7778742049, 12586269025, 20365011074, 32951280099, 53316291173, 86267571272, 139583862445, 225851433717, 365435296162, 591286729879, 956722026041, 1548008755920, 2504730781961, 4052739537881, 6557470319842, 10610209857723, 17167680177565, 27777890035288, 44945570212853, 72723460248141, 117669030460994, 190392490709135, 308061521170129, 498454011879264, 806515533049393, 1304969544928657, 2111485077978050, 3416454622906707, 5527939700884757, 8944394323791464, 14472334024676221, 23416728348467685, 37889062373143906, 61305790721611591, 99194853094755497, 160500643816367088, 259695496911122585, 420196140727489673, 679891637638612258, 1100087778366101931, 1779979416004714189, 2880067194370816120, 4660046610375530309, 7540113804746346429, 12200160415121876738, 19740274219868223167, 31940434634990099905, 51680708854858323072, 83621143489848422977, 135301852344706746049, 218922995834555169026]\n"
          ],
          "name": "stdout"
        }
      ]
    },
    {
      "metadata": {
        "id": "rvH2rNmf7weE",
        "colab_type": "text"
      },
      "cell_type": "markdown",
      "source": [
        "Problem 2:  Reverse a List"
      ]
    },
    {
      "metadata": {
        "id": "Bd219uu_726Q",
        "colab_type": "code",
        "colab": {
          "base_uri": "https://localhost:8080/",
          "height": 51
        },
        "outputId": "eaf43b86-4101-4c50-91f9-01f95dc72822"
      },
      "cell_type": "code",
      "source": [
        "'''\n",
        "Reverse in one line \n",
        "'''\n",
        "def reverseList(inputList):\n",
        "  return inputList[::-1]\n",
        "\n",
        "inputList = [1, 2, 3, 4, 5]\n",
        "outputList = reverseList(inputList)\n",
        "print(\"Input    List:\", inputList)\n",
        "print(\"Reversed List:\", outputList)\n"
      ],
      "execution_count": 3,
      "outputs": [
        {
          "output_type": "stream",
          "text": [
            "Input    List: [1, 2, 3, 4, 5]\n",
            "Reversed List: [5, 4, 3, 2, 1]\n"
          ],
          "name": "stdout"
        }
      ]
    },
    {
      "metadata": {
        "id": "0dr1vYiV78NZ",
        "colab_type": "code",
        "colab": {
          "base_uri": "https://localhost:8080/",
          "height": 51
        },
        "outputId": "148374c4-846d-4269-8db9-29ae6f18e1f4"
      },
      "cell_type": "code",
      "source": [
        "'''\n",
        "Reverse in one line 2\n",
        "'''\n",
        "def reverseListUsingBuiltinReversedVer1(inputList):\n",
        "  return list(reversed(inputList))\n",
        "\n",
        "inputList = [ 0, 1, 2, -1, -2, -1, 0, 2]\n",
        "outputList = reverseListUsingBuiltinReversedVer1(inputList)\n",
        "print(\"Input    List:\", inputList)\n",
        "print(\"Reversed List:\", outputList)\n"
      ],
      "execution_count": 4,
      "outputs": [
        {
          "output_type": "stream",
          "text": [
            "Input    List: [0, 1, 2, -1, -2, -1, 0, 2]\n",
            "Reversed List: [2, 0, -1, -2, -1, 2, 1, 0]\n"
          ],
          "name": "stdout"
        }
      ]
    },
    {
      "metadata": {
        "id": "rDoGDIEp8Aja",
        "colab_type": "code",
        "colab": {
          "base_uri": "https://localhost:8080/",
          "height": 51
        },
        "outputId": "bc43a338-1ce8-4171-a957-546d03d279a5"
      },
      "cell_type": "code",
      "source": [
        "'''\n",
        "The reversing of elements in a list is done using the builtin \"reversed\" in python\n",
        "'''\n",
        "\n",
        "def reverseListUsingBuiltinReversedVer2(inputList):\n",
        "  outputList=[]\n",
        "  for x in reversed(inputList):\n",
        "    outputList.append(x)\n",
        "  return outputList\n",
        "\n",
        "inputList= [-2, -1, 0, 1, 2, 3, 4]\n",
        "outputList = reverseListUsingBuiltinReversedVer2(inputList)\n",
        "print (\"Input     List : \", inputList)\n",
        "print (\"Reversed  List : \", outputList)\n"
      ],
      "execution_count": 5,
      "outputs": [
        {
          "output_type": "stream",
          "text": [
            "Input     List :  [-2, -1, 0, 1, 2, 3, 4]\n",
            "Reversed  List :  [4, 3, 2, 1, 0, -1, -2]\n"
          ],
          "name": "stdout"
        }
      ]
    },
    {
      "metadata": {
        "id": "B4911bHu8HKp",
        "colab_type": "code",
        "colab": {
          "base_uri": "https://localhost:8080/",
          "height": 51
        },
        "outputId": "3381db6e-bc0a-4c46-d96c-318db0e2594b"
      },
      "cell_type": "code",
      "source": [
        "'''\n",
        "The reverse logic is implemented by traversing the list elements from\n",
        "the end of the List towards the beginning and populating another\n",
        "output list. The builtin range() routine is used.\n",
        "'''\n",
        "def reverseListUsingRange(inputList):\n",
        "  outputList=[]\n",
        "  for i in range(len(inputList)-1, -1, -1):\n",
        "    outputList.append(inputList[i])\n",
        "  return outputList\n",
        "\n",
        "inputList = [ 10,20,30,40,50,-10]\n",
        "outputList = reverseListUsingRange(inputList)\n",
        "print (\"Input     List : \", inputList)\n",
        "print (\"Reversed  List : \", outputList)\n"
      ],
      "execution_count": 6,
      "outputs": [
        {
          "output_type": "stream",
          "text": [
            "Input     List :  [10, 20, 30, 40, 50, -10]\n",
            "Reversed  List :  [-10, 50, 40, 30, 20, 10]\n"
          ],
          "name": "stdout"
        }
      ]
    },
    {
      "metadata": {
        "id": "cJWqJ-bw8MtA",
        "colab_type": "code",
        "colab": {
          "base_uri": "https://localhost:8080/",
          "height": 51
        },
        "outputId": "b4e2db39-d169-4638-daa8-72256bf86cef"
      },
      "cell_type": "code",
      "source": [
        "'''\n",
        "The pointer values in the List are exchanged. At the end of the\n",
        "program, the inputList will contain the elements in the reverse order.\n",
        "It is an inplace reverse method.\n",
        "'''\n",
        "def reverseListUsingSwap(inputList):\n",
        "  left = 0\n",
        "  right = len(inputList)-1\n",
        "  while left < right:\n",
        "    temp = inputList[right]\n",
        "    inputList[right] = inputList[left]\n",
        "    inputList[left] = temp\n",
        "    left += 1\n",
        "    right -= 1\n",
        "\n",
        "inputList = [15, 12, 31, 9, 8, -1, 90]\n",
        "print (\"Input     List : \", inputList)\n",
        "reverseListUsingSwap(inputList)\n",
        "print (\"Reversed  List : \", inputList)\n"
      ],
      "execution_count": 7,
      "outputs": [
        {
          "output_type": "stream",
          "text": [
            "Input     List :  [15, 12, 31, 9, 8, -1, 90]\n",
            "Reversed  List :  [90, -1, 8, 9, 31, 12, 15]\n"
          ],
          "name": "stdout"
        }
      ]
    },
    {
      "metadata": {
        "id": "mpjCgoEk8Rcc",
        "colab_type": "code",
        "colab": {
          "base_uri": "https://localhost:8080/",
          "height": 51
        },
        "outputId": "5b8176cb-6add-4554-9531-e38db4154745"
      },
      "cell_type": "code",
      "source": [
        "'''\n",
        "List is implemented as a stack. One can issue pop() operation\n",
        "on it.The below program will pop all the elements from inputList\n",
        "and create a new list. At the end of the program, the inputList\n",
        "will be set to NULL.\n",
        "'''\n",
        "def reverseListUsingStack(inputList):\n",
        "  outputList=[]\n",
        "  while inputList:\n",
        "    outputList.append(inputList.pop())\n",
        "  return outputList\n",
        "\n",
        "inputList = [9, 8, 5, 4, 2]\n",
        "print (\"Input     List : \", inputList)\n",
        "outputList= reverseListUsingStack(inputList)\n",
        "print (\"Reversed  List : \", outputList)\n"
      ],
      "execution_count": 8,
      "outputs": [
        {
          "output_type": "stream",
          "text": [
            "Input     List :  [9, 8, 5, 4, 2]\n",
            "Reversed  List :  [2, 4, 5, 8, 9]\n"
          ],
          "name": "stdout"
        }
      ]
    }
  ]
}